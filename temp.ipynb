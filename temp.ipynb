{
  "cells": [
    {
      "cell_type": "raw",
      "metadata": {},
      "source": [
        "---\n",
        "title: \"Untitled\"\n",
        "editor: visual\n",
        "---"
      ],
      "id": "577fcabb"
    },
    {
      "cell_type": "code",
      "metadata": {},
      "source": [
        "import pandas"
      ],
      "id": "12ab597a",
      "execution_count": null,
      "outputs": []
    }
  ],
  "metadata": {
    "kernelspec": {
      "display_name": "Python 3",
      "language": "python",
      "name": "python3"
    }
  },
  "nbformat": 4,
  "nbformat_minor": 5
}